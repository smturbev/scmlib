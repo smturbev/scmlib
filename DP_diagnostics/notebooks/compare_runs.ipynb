{
 "cells": [
  {
   "cell_type": "code",
   "execution_count": 1,
   "metadata": {},
   "outputs": [],
   "source": [
    "import xarray as xr\n",
    "import matplotlib.pyplot as plt\n",
    "import matplotlib.cm as mcm\n",
    "import numpy as np\n",
    "import pandas as pd\n",
    "import warnings\n",
    "\n",
    "warnings.filterwarnings('ignore')\n",
    "runs = [\"ck\",\"ch\",\"cj\", \"ci\",\"cg\",\"cf\"]\n",
    "run_names = [\"Default\",\"New ice_nuc\",\"1/2x dep\",\"2x dep\",\"1/2x sed\",\"2x sed\"]\n",
    "colors = [\"darkred\",\"lightcoral\",\"lightskyblue\",\"mediumblue\",\"lightgreen\",\"darkgreen\"]\n",
    "markers = [\"o\",\"o\",\"s\",\"s\",\"D\",\"D\"]\n",
    "\n",
    "nt = 60*4+1\n",
    "run_dir = \"/glade/scratch/sturbeville/DPSCREAM_simulations/\"\n"
   ]
  },
  {
   "cell_type": "code",
   "execution_count": 6,
   "metadata": {},
   "outputs": [
    {
     "data": {
      "text/plain": [
       "['ANRAIN',\n",
       " 'ANSNOW',\n",
       " 'AQRAIN',\n",
       " 'AQSNOW',\n",
       " 'AREI',\n",
       " 'AREL',\n",
       " 'AWNC',\n",
       " 'AWNI',\n",
       " 'BRUNT',\n",
       " 'BVRIM',\n",
       " 'CLDICE',\n",
       " 'CLDLIQ',\n",
       " 'CLDRIM',\n",
       " 'CLOUD',\n",
       " 'CLOUDFRAC_ICE_MICRO',\n",
       " 'CLOUDFRAC_LIQ_MICRO',\n",
       " 'CLOUDFRAC_RAIN_MICRO',\n",
       " 'CONCLD',\n",
       " 'DCQ',\n",
       " 'DTCOND',\n",
       " 'ICE_CLOUD_FRAC',\n",
       " 'ICIMR',\n",
       " 'ICWMR',\n",
       " 'ISOTROPY',\n",
       " 'IWC',\n",
       " 'LIQ_CLOUD_FRAC',\n",
       " 'NUMICE',\n",
       " 'NUMLIQ',\n",
       " 'NUMRAI',\n",
       " 'OMEGA',\n",
       " 'OMEGAT',\n",
       " 'PRECIPITATING_ICE_FRAC',\n",
       " 'Q',\n",
       " 'QDIFF',\n",
       " 'QRL',\n",
       " 'QRS',\n",
       " 'RAINQM',\n",
       " 'RELHUM',\n",
       " 'SHOC_MIX',\n",
       " 'SHOC_QL',\n",
       " 'SHOC_TKE',\n",
       " 'T',\n",
       " 'TDIFF',\n",
       " 'THL2_RES',\n",
       " 'TK',\n",
       " 'TKH',\n",
       " 'TOT_CLOUD_FRAC',\n",
       " 'U',\n",
       " 'V',\n",
       " 'Z3']"
      ]
     },
     "execution_count": 6,
     "metadata": {},
     "output_type": "execute_result"
    }
   ],
   "source": [
    "file=\"h0_varnames_3Dlev\"\n",
    "varnames = open(file,\"r\").read().split(\"\\n\")  \n",
    "varnames"
   ]
  },
  {
   "cell_type": "code",
   "execution_count": 3,
   "metadata": {},
   "outputs": [],
   "source": [
    "i=0\n",
    "ds = xr.open_dataset(run_dir+\"scream_dp_RCE_SMALL_3km_{}/run/scream_dp_RCE_SMALL_3km_{}.eam.h0.2000-01-01-00000.nc\".format(runs[i],runs[i]))\n",
    "z = ds.Z3.mean(dim=[\"time\",\"ncol\"])/1000"
   ]
  },
  {
   "cell_type": "code",
   "execution_count": 4,
   "metadata": {},
   "outputs": [
    {
     "name": "stdout",
     "output_type": "stream",
     "text": [
      "<xarray.DataArray 'Z3' (lev: 17)>\n",
      "array([17.854183, 17.544886, 17.271656, 17.029003, 16.805359, 16.586517,\n",
      "       16.366186, 16.143785, 15.924114, 15.708854, 15.49256 , 15.272893,\n",
      "       15.053359, 14.837622, 14.621803, 14.401878, 14.180021],\n",
      "      dtype=float32)\n",
      "Coordinates:\n",
      "  * lev      (lev) float64 75.0 78.92 82.6 86.04 ... 125.8 130.7 135.8 141.1\n"
     ]
    }
   ],
   "source": [
    "# fig = plt.figure(figsize=(5,12))\n",
    "# for v in range(105):\n",
    "#     plt.axhline(z[23+v],0,1, color=\"k\")\n",
    "# plt.ylim([0,20])\n",
    "# plt.axis(\"off\")\n",
    "# plt.savefig(\"plots/vertical_spacing.png\",dpi=120, transparent=True)\n",
    "# plt.show()\n",
    "# print(z[23:])\n",
    "print(z[28:45])"
   ]
  },
  {
   "cell_type": "code",
   "execution_count": null,
   "metadata": {},
   "outputs": [],
   "source": [
    "# var = [\"IWC\",\"CLDICE\",\"NUMICE\",\"AWNI\",\"AREI\",\"RELHUM\",\"T\"]\n",
    "var = [\"CLOUD\"]\n",
    "for v in var:\n",
    "    if v==\"IWC\":\n",
    "        logscale=False\n",
    "    else:\n",
    "        logscale=False\n",
    "    fig, ax = plt.subplots(1,1, figsize=(2,5))\n",
    "    savename=v+\"_\"\n",
    "    if logscale:\n",
    "        xmin, xmax = 1e-8,1e-4\n",
    "        ax.set_xscale(\"log\")\n",
    "    else:\n",
    "        xmin, xmax = 0,0\n",
    "    for i in range(len(runs)):\n",
    "        ds = xr.open_dataset(run_dir+\"scream_dp_RCE_SMALL_3km_{}/run/scream_dp_RCE_SMALL_3km_{}.eam.h0.2000-01-01-00000.nc\".format(runs[i],runs[i]))\n",
    "        units = ds[v].units\n",
    "        long_name = ds[v].long_name\n",
    "        z = ds.Z3.mean(dim=[\"time\",\"ncol\"])\n",
    "        ndays = nt//4\n",
    "        ntime = len(ds.time.isel(time=slice(-nt,-1)))\n",
    "        ds = ds[v].isel(time=slice(-nt,-1)).mean(dim=[\"time\",\"ncol\"])\n",
    "        ax.plot(ds, z/1000, color=colors[i],\n",
    "                label=run_names[i]+ \" (last \"+str(ndays)+\" days)\")\n",
    "        savename = savename + runs[i][-2:]+\"-\"\n",
    "        if not(logscale):\n",
    "            if ds.min()>10:\n",
    "                xmin = ds.min()\n",
    "            xmin = np.min([ds.min(), xmin])\n",
    "            xmax = np.max([ds.max(), xmax])\n",
    "        else:\n",
    "            if ds.max()>xmax:\n",
    "                xmax = 1e-2\n",
    "            if ds.max()>xmax:\n",
    "                xmax = 1\n",
    "    ax.set_xlabel(long_name+\"\\n(\"+units+\")\")\n",
    "    ax.grid(True)\n",
    "    xmin = xmin - xmin*0.1\n",
    "    xmax = xmax + xmin*0.1\n",
    "    ax.fill_between([xmin, xmax], 14, 18, color=\"C0\", alpha=0.5)\n",
    "    ax.set_ylim([0,20])\n",
    "    ax.set_xlim([xmin, xmax])\n",
    "    ax.annotate(\"TTL\", color=\"C0\", xy=(0.47,0.75), xycoords=\"axes fraction\")\n",
    "    fig.legend(loc=6, bbox_to_anchor=(1.0, 0.5))\n",
    "    print(\"saving to plots/compare_runs_{}.png\".format(savename[:-1]))\n",
    "    plt.savefig(\"plots/compare_runs_{}.png\".format(savename[:-1]), dpi=120, bbox_inches=\"tight\",pad_inches=1)\n",
    "    plt.close()\n",
    "    "
   ]
  },
  {
   "cell_type": "code",
   "execution_count": 68,
   "metadata": {},
   "outputs": [
    {
     "name": "stdout",
     "output_type": "stream",
     "text": [
      "save as plots/compare_runs_rad_cj-ci.png\n"
     ]
    },
    {
     "data": {
      "image/png": "[encoded data removed]",
      "text/plain": [
       "<Figure size 600x400 with 1 Axes>"
      ]
     },
     "metadata": {},
     "output_type": "display_data"
    }
   ],
   "source": [
    "# 2D comparisons (like in comp_rcemip)\n",
    "#### user input ####\n",
    "plot_type=\"rad\" #options: \"rad\" for radiation, \"water\" for hydrometeors\n",
    "plot=True\n",
    "#### end user input ####\n",
    "var_list_rad = [\"RSFC\", \"RSFCC\",\"RTOA\",\"RTOAC\",\"RNET\",\"RNETC\",\"OLR\",\"ASR\",\"QOCN\",\"LHF\",\"SHF\"]\n",
    "var_list_water = [\"PW\",\"PR\",\"LWP\",\"IWP\",\"WVP\"]\n",
    "fig, ax = plt.subplots(1,1,figsize=(6,4))\n",
    "savename=plot_type+\"_\"\n",
    "for i in range(len(runs)):\n",
    "    ds = xr.open_dataset(run_dir+\"scream_dp_RCE_SMALL_3km_{}/run/scream_dp_RCE_SMALL_3km_{}.eam.h1.2000-01-01-00000.nc\".format(runs[i],runs[i]))\n",
    "    ds = ds.isel(time=slice(-nt, -1))\n",
    "    var_dict = {}\n",
    "    savename = savename + runs[i][-2:] + \"-\"\n",
    "    if plot_type==\"rad\":\n",
    "        # rsfc, the net radiative flux at the sfc (SW-LW)\n",
    "        var_dict[\"RSFC\"] = (ds[\"FSNS\"]-ds[\"FLNS\"]).mean()\n",
    "        var_dict[\"RSFCC\"] = (ds[\"FSNSC\"]-ds[\"FLNSC\"]).mean()\n",
    "        # rtoa, the net radiative flux at toa (SW-LW)\n",
    "        var_dict[\"RTOA\"] = (ds[\"FSNTOA\"]-ds[\"FLUT\"]).mean()\n",
    "        var_dict[\"RTOAC\"] = (ds[\"FSNTOAC\"]-ds[\"FLUTC\"]).mean()\n",
    "        # rnet = rtoa − rsfc, where negative values indicate net atmospheric radiative cooling\n",
    "        var_dict[\"RNET\"] = ((ds[\"FSNTOA\"]-ds[\"FLUT\"]) - (ds[\"FSNS\"]-ds[\"FLNS\"])).mean()\n",
    "        var_dict[\"RNETC\"] = ((ds[\"FSNTOAC\"]-ds[\"FLUTC\"]) - (ds[\"FSNSC\"]-ds[\"FLNSC\"])).mean()\n",
    "        # olr\n",
    "        var_dict[\"OLR\"] = ds[\"FLUT\"].mean()\n",
    "        # asr, absorbed sw radiation (i.e., net SW flux at TOA (total incoming - total outgoing))\n",
    "        var_dict[\"ASR\"] = ds[\"FSNTOA\"].mean()\n",
    "        # energy input into ocean\n",
    "        var_dict[\"QOCN\"] = ((ds[\"FSNS\"]-ds[\"FLNS\"])-ds[\"LHFLX\"]-ds[\"SHFLX\"]).mean()\n",
    "        # lhf, latent heat flux\n",
    "        var_dict[\"LHF\"] = ds[\"LHFLX\"].mean()\n",
    "        # shf, sensible heat flux\n",
    "        var_dict[\"SHF\"] = ds[\"SHFLX\"].mean()\n",
    "        units_dict = zip(var_list_rad,[\"W/m2\"]*len(var_list_rad))\n",
    "    else: #plot_type==\"water\"\n",
    "        # pw, precipitable water\n",
    "        var_dict[\"PW\"] = ds[\"TMQ\"].mean()\n",
    "        # precip, precipitation rate\n",
    "        var_dict[\"PR\"] = ((ds.PRECL)*1000*3600*24).mean() #m/s --> mm/day ==> m/s * 1000 mm/m * 3600s/1hr * 24hr/day = mm/day\n",
    "        # LWP, liquid water path\n",
    "        var_dict[\"LWP\"] = ds[\"TGCLDLWP\"].mean()\n",
    "        # IWP, ice water path\n",
    "        var_dict[\"IWP\"] = ds[\"TGCLDIWP\"].mean()\n",
    "        # clwvi_avg, water vapor path\n",
    "        var_dict[\"WVP\"] = ds[\"TGCLDCWP\"].mean()\n",
    "        units_dict = zip(var_list_water,[\"kg/m2\",\"mm/day\",\"kg/m2\",\"kg/m2\",\"kg/m2\"])\n",
    "    # plot\n",
    "    if plot_type==\"rad\":\n",
    "        var_list=var_list_rad\n",
    "    else:\n",
    "        var_list=var_list_water\n",
    "        if i==0:\n",
    "            axt = ax.twinx()\n",
    "    for j in range(len(var_list)):\n",
    "        ci = \"C0\" if i==0 else \"C1\"\n",
    "        if j==0:\n",
    "            ax.bar(j+(i/len(runs)),var_dict[var_list[j]], color=ci, width=0.5, label=run_names[i])\n",
    "        else:\n",
    "            if (plot_type==\"water\") & (j>1):\n",
    "                axt.bar(j+(i/len(runs)),var_dict[var_list[j]], color=ci, width=0.5)\n",
    "                axt.set_yscale(\"log\")\n",
    "                axt.axvline(1.75, color='k')\n",
    "                axt.set_ylim([1e-2,3e-1])\n",
    "            else:\n",
    "                ax.bar(j+(i/len(runs)),var_dict[var_list[j]], color=ci, width=0.5)\n",
    "ax.set_xticks(np.arange(0.25,len(var_list),1), var_list)\n",
    "ax.set_xticks(np.arange(-0.25,len(var_list),1), minor=True)\n",
    "ax.tick_params(axis='x', labelrotation=30)\n",
    "ax.legend(loc=3)\n",
    "ax.grid(axis='x', which='minor')\n",
    "print(\"save as plots/compare_runs_{}.png\".format(savename[:-1]))\n",
    "plt.savefig(\"plots/compare_runs_{}.png\".format(savename[:-1]))\n",
    "plt.show()"
   ]
  },
  {
   "cell_type": "code",
   "execution_count": null,
   "metadata": {},
   "outputs": [],
   "source": []
  }
 ],
 "metadata": {
  "kernelspec": {
   "display_name": "NPL 2023a",
   "language": "python",
   "name": "npl-2023a"
  },
  "language_info": {
   "codemirror_mode": {
    "name": "ipython",
    "version": 3
   },
   "file_extension": ".py",
   "mimetype": "text/x-python",
   "name": "python",
   "nbconvert_exporter": "python",
   "pygments_lexer": "ipython3",
   "version": "3.9.16"
  }
 },
 "nbformat": 4,
 "nbformat_minor": 4
}
