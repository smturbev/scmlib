{
 "cells": [
  {
   "cell_type": "code",
   "execution_count": 2,
   "metadata": {},
   "outputs": [],
   "source": [
    "import numpy as np\n",
    "import matplotlib.pyplot as plt\n",
    "import netCDF4\n",
    "from matplotlib import colors,ticker\n",
    "import matplotlib.gridspec as gridspec\n",
    "# from path import Path\n",
    "from scipy.ndimage import uniform_filter1d\n",
    "#make path to the module active\n",
    "import sys\n",
    "sys.path.append('/glade/u/home/blazg/scripts/modules_python/')\n",
    "\n",
    "from make_cmap import *\n",
    "from press_to_alt import * #for pressure to altitude transofrmation\n",
    "import sam #for module ncopen\n",
    "import util\n",
    "\n",
    "\n",
    "cldmap = make_colormap('CBR_wet.rgb')\n",
    "icemap = make_colormap('ice_new.rgb')\n",
    "\n",
    "path = '/glade/campaign/univ/uwas0108/blazg/obs_data/cirrus-guideII-database/'\n",
    "timeind= slice(None)\n",
    "levind = slice(None)\n",
    "lonind = slice(None)\n",
    "latind = slice(None)\n",
    "\n",
    "varnames = ['time','y','x','z']\n",
    "\n"
   ]
  },
  {
   "cell_type": "code",
   "execution_count": 3,
   "metadata": {},
   "outputs": [],
   "source": [
    "import fnmatch\n",
    "import os\n",
    "\n",
    "path = '/glade/campaign/univ/uwas0108/blazg/obs_data/cirrus-guideII-database/'\n",
    "campaigns = ['*attrex*','*posidon*','*CONTRAST*']\n",
    "allp = []\n",
    "\n",
    "for filename in os.listdir(path):\n",
    "    for campaign in campaigns:\n",
    "        if fnmatch.fnmatch(filename, campaign):\n",
    "            #allp.append(filename) only the names\n",
    "            allp.append(os.path.join(path, filename))\n"
   ]
  },
  {
   "cell_type": "markdown",
   "metadata": {},
   "source": [
    "HERE NOW ICNC VS REFFI"
   ]
  },
  {
   "cell_type": "code",
   "execution_count": 8,
   "metadata": {},
   "outputs": [],
   "source": [
    "insitu=0\n",
    "liqor=0"
   ]
  },
  {
   "cell_type": "code",
   "execution_count": 15,
   "metadata": {},
   "outputs": [
    {
     "name": "stdout",
     "output_type": "stream",
     "text": [
      "saving\n",
      "saved\n"
     ]
    }
   ],
   "source": [
    "varloop = ['rei']#,'omega','convf']\n",
    "ybins = 10**np.linspace(-5,2,71)\n",
    "\n",
    "hist_var = {}\n",
    "hist_freq = {}\n",
    "hist_norm1 = {}\n",
    "\n",
    "varnames = ['BEST:PRESS','BEST:TEMP','BEST:N_ice','BEST:IWC','BEST:R_ice'] \n",
    "\n",
    "hist_counts={}\n",
    "\n",
    "\n",
    "# allcounts = np.zeros((3,len(xbins)-1,len(ybins)-1))\n",
    "\n",
    "\n",
    "\n",
    "for d in range(len(allp)):\n",
    "    #print(d,'campaign #')\n",
    "    # hist_counts = np.zeros((3,len(xbins)-1,len(ybins)-1))\n",
    "    \n",
    "    ncfile = netCDF4.Dataset(allp[d])\n",
    "    data_3d = {}\n",
    "\n",
    "    #load variables\n",
    "    for var in varnames:\n",
    "        #???data_3d[var] = np.array(ncfile.variables[var][5040:])\n",
    "        data_3d[var] = np.array(ncfile.variables[var][:])\n",
    "\n",
    "    \n",
    "    # pres=data_3d['BEST:PRESS'].squeeze() #hPa\n",
    "    # iwc_ppmv = data_3d['BEST:IWC']\n",
    "    # iwc=data_3d['BEST:IWC']*18.015/22.41 * 1e-3 * pres/1013  #from ppmv to g/m3\n",
    "    # print(iwc.shape)\n",
    "    icnc=data_3d['BEST:N_ice'].squeeze()  #N/cm-3\n",
    "    rei=data_3d['BEST:R_ice'].squeeze() #microm\n",
    "    temp0=data_3d['BEST:TEMP'].squeeze() #K\n",
    "\n",
    "    #running mean here\n",
    "    rei= uniform_filter1d( rei, size=18)\n",
    "    icnc= uniform_filter1d( icnc, size=18)\n",
    "    \n",
    "    #iwc[temp0<0]  = -9999\n",
    "    #iwc[temp0>283]= -9999\n",
    "    # iwc[temp0>233.15]= -9999\n",
    "    rei[temp0>233.15]= -9999\n",
    "    icnc[temp0>233.15]= -9999\n",
    "\n",
    "\n",
    "    if insitu==1:\n",
    "        print('now only what <0.1 PPMV ICE')\n",
    "        # iwc[iwc_ppmv>0.1] = -9999\n",
    "        icnc[iwc_ppmv>0.1] = -9999\n",
    "        # rei[iwc_ppmv>0.1] = -9999\n",
    "    if liqor==1:\n",
    "        print('now only what >10 PPMV ICE')\n",
    "        # iwc[iwc_ppmv<10.] = -9999\n",
    "        icnc[iwc_ppmv<10.] = -9999\n",
    "        # rei[iwc_ppmv<10.] = -9999\n",
    "\n",
    "    for c,car in enumerate(varloop):\n",
    "\n",
    "        plotvar_x = rei.ravel()\n",
    "        plotvar_y = icnc.ravel()\n",
    "\n",
    "        # if c==0:\n",
    "        #     xbins = np.arange(0,141,2)\n",
    "        #     xplot4=(xbins[:-1]+xbins[1:])/2.\n",
    "            \n",
    "        # hist_counts[c] = np.histogram2d(plotvar_x, plotvar_y, bins=[xbins,ybins], normed=False)[0] \n",
    "    # allcounts = allcounts +    hist_counts\n",
    "    # print(np.sum(allcounts[0]),'after')\n",
    "\n",
    "write=1\n",
    "######################################################################################\n",
    "######################SAVE VARIABLES in an NC FILE###################################\n",
    "# yplot =(ybins[:-1]+ybins[1:])/2.\n",
    "      \n",
    "if (write == 1):\n",
    "    \n",
    "    ##############WRITE IN A NC FILE##################################################\n",
    "\n",
    "    ############################################################################\n",
    "    from netCDF4 import Dataset as NetCDFFile\n",
    "    \n",
    "    savepath = '/glade/work/sturbeville/obs/ATTREX_POSIDON_CONTRAST/processed/'\n",
    "    print('saving')\n",
    "    ncfile = NetCDFFile(savepath+'ATT_POS_CONT_microguideII_icnc_rei_runningmean18x.nc', 'w',  format='NETCDF4_CLASSIC') \n",
    "\n",
    "    # icnc = ncfile.createDimension('icnc', len(yplot) )\n",
    "    icnc = ncfile.createDimension('icnc', len(plotvar_y) )\n",
    "    rad = ncfile.createDimension('rad', len(plotvar_x) )\n",
    "\n",
    "    # Create coordinate variables for 2-dimensions\n",
    "    rad = ncfile.createVariable('ice mass radius', np.float32, ('rad',)) \n",
    "    icnc = ncfile.createVariable('ice number concentration', np.float32, ('icnc',)) \n",
    "\n",
    "\n",
    "    # Create the actual 2-d variable\n",
    "    # rei_bin    = ncfile.createVariable('binned in-cloud ice crystal radius', np.dtype('float32').char, ('icnc','rad'))\n",
    "\n",
    "    # Variable Attributes  \n",
    "    # rei_bin.units      = 'micron'  \n",
    "   \n",
    "    #assign values\n",
    "    icnc[:] = plotvar_y\n",
    "    rad[:]  = plotvar_x\n",
    "#     icnc[:]           = yplot\n",
    "#     rad[:]            = xplot4\n",
    "    \n",
    "#     rei_bin[:]       = np.flipud(allcounts[0][:,::-1].T)\n",
    "\n",
    "    ncfile.close()    \n",
    "print(\"saved\")"
   ]
  },
  {
   "cell_type": "code",
   "execution_count": 28,
   "metadata": {},
   "outputs": [
    {
     "data": {
      "text/plain": [
       "251528.0"
      ]
     },
     "execution_count": 28,
     "metadata": {},
     "output_type": "execute_result"
    }
   ],
   "source": [
    "np.sum(allcounts[0])"
   ]
  },
  {
   "cell_type": "code",
   "execution_count": 30,
   "metadata": {},
   "outputs": [
    {
     "data": {
      "text/plain": [
       "(3, 70, 70)"
      ]
     },
     "execution_count": 30,
     "metadata": {},
     "output_type": "execute_result"
    }
   ],
   "source": [
    "allcounts.shape\n"
   ]
  },
  {
   "cell_type": "code",
   "execution_count": 34,
   "metadata": {},
   "outputs": [
    {
     "data": {
      "text/plain": [
       "array([1.12946271e-05, 1.42190930e-05, 1.79007775e-05, 2.25357437e-05,\n",
       "       2.83708205e-05, 3.57167468e-05, 4.49647202e-05, 5.66072289e-05,\n",
       "       7.12642790e-05, 8.97164117e-05, 1.12946271e-04, 1.42190930e-04,\n",
       "       1.79007775e-04, 2.25357437e-04, 2.83708205e-04, 3.57167468e-04,\n",
       "       4.49647202e-04, 5.66072289e-04, 7.12642790e-04, 8.97164117e-04,\n",
       "       1.12946271e-03, 1.42190930e-03, 1.79007775e-03, 2.25357437e-03,\n",
       "       2.83708205e-03, 3.57167468e-03, 4.49647202e-03, 5.66072289e-03,\n",
       "       7.12642790e-03, 8.97164117e-03, 1.12946271e-02, 1.42190930e-02,\n",
       "       1.79007775e-02, 2.25357437e-02, 2.83708205e-02, 3.57167468e-02,\n",
       "       4.49647202e-02, 5.66072289e-02, 7.12642790e-02, 8.97164117e-02,\n",
       "       1.12946271e-01, 1.42190930e-01, 1.79007775e-01, 2.25357437e-01,\n",
       "       2.83708205e-01, 3.57167468e-01, 4.49647202e-01, 5.66072289e-01,\n",
       "       7.12642790e-01, 8.97164117e-01, 1.12946271e+00, 1.42190930e+00,\n",
       "       1.79007775e+00, 2.25357437e+00, 2.83708205e+00, 3.57167468e+00,\n",
       "       4.49647202e+00, 5.66072289e+00, 7.12642790e+00, 8.97164117e+00,\n",
       "       1.12946271e+01, 1.42190930e+01, 1.79007775e+01, 2.25357437e+01,\n",
       "       2.83708205e+01, 3.57167468e+01, 4.49647202e+01, 5.66072289e+01,\n",
       "       7.12642790e+01, 8.97164117e+01])"
      ]
     },
     "execution_count": 34,
     "metadata": {},
     "output_type": "execute_result"
    }
   ],
   "source": [
    "yplot"
   ]
  },
  {
   "cell_type": "code",
   "execution_count": null,
   "metadata": {},
   "outputs": [],
   "source": []
  }
 ],
 "metadata": {
  "kernelspec": {
   "display_name": "NPL 2023a",
   "language": "python",
   "name": "npl-2023a"
  },
  "language_info": {
   "codemirror_mode": {
    "name": "ipython",
    "version": 3
   },
   "file_extension": ".py",
   "mimetype": "text/x-python",
   "name": "python",
   "nbconvert_exporter": "python",
   "pygments_lexer": "ipython3",
   "version": "3.9.16"
  }
 },
 "nbformat": 4,
 "nbformat_minor": 4
}
