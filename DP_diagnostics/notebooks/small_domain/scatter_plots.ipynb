{
 "cells": [
  {
   "cell_type": "code",
   "execution_count": 5,
   "id": "bb372e44-1292-4436-94aa-53e9a7d6641d",
   "metadata": {},
   "outputs": [],
   "source": [
    "import xarray as xr\n",
    "import matplotlib.pyplot as plt\n",
    "import matplotlib.cm as mcm\n",
    "import numpy as np\n",
    "import pandas as pd\n",
    "import warnings\n",
    "\n",
    "warnings.filterwarnings('ignore')"
   ]
  },
  {
   "cell_type": "code",
   "execution_count": 2,
   "id": "0358eaa2-15b7-4eee-8266-ef4dd5c46a74",
   "metadata": {},
   "outputs": [],
   "source": [
    "dy2 = \"/glade/work/sturbeville/dyamond2/means/\"\n",
    "dy2olr = dy2+\"TWP_meanOLR_DY2_models.nc\"\n",
    "dy2swu = dy2+\"TWP_meanSWU_DY2_models.nc\"\n",
    "dy2_models=[\"ICONr0.1deg\",\"SAMr0.1deg\",\"SCREAMr0.1deg\",\"GEOSr0.1deg\",\"NICAM\",\"SHiELDr0.1deg\"]\n",
    "dy_olr = xr.open_dataset(dy2olr)\n",
    "dy_swu = xr.open_dataset(dy2swu)\n",
    "dy_olr = dy_olr.drop(\"UM\").drop(\"IFS\").drop(\"ARPr0.1deg\")\n",
    "dy_swu = dy_swu.drop(\"UM\").drop(\"ARPr0.1deg\")\n"
   ]
  },
  {
   "cell_type": "code",
   "execution_count": 26,
   "id": "74c6f115-ff41-47f6-b211-83a71cbd4583",
   "metadata": {},
   "outputs": [
    {
     "name": "stdout",
     "output_type": "stream",
     "text": [
      "0 ICONr0.1deg\n",
      "237.69278\n",
      "1 SAMr0.1deg\n",
      "232.756\n",
      "2 SCREAMr0.1deg\n",
      "245.47029\n",
      "3 GEOSr0.1deg\n",
      "223.22758\n",
      "4 NICAM\n",
      "216.49577\n",
      "5 SHiELDr0.1deg\n",
      "219.1253\n"
     ]
    }
   ],
   "source": [
    "for i,v in enumerate(dy2_models):\n",
    "    print(i,v)\n",
    "    print(dy_olr[v].values)"
   ]
  },
  {
   "cell_type": "code",
   "execution_count": 4,
   "id": "22c7a1ce-206e-4c2c-a7a7-c81bd338e4ae",
   "metadata": {},
   "outputs": [
    {
     "name": "stdout",
     "output_type": "stream",
     "text": [
      "<xarray.DataArray ()>\n",
      "array(10.39254665) <xarray.DataArray ()>\n",
      "array(17.7776413)\n"
     ]
    }
   ],
   "source": [
    "dyolrmean = dy_olr.to_array().mean()\n",
    "dyswumean = dy_swu.to_array().mean()\n",
    "dyolrstd = dy_olr.to_array().std()\n",
    "dyswustd = dy_swu.to_array().std()\n",
    "print(dyolrstd, dyswustd)\n",
    "\n",
    "# for m in dy2_models:\n",
    "#     plt.scatter(dy_olr[m], dy_swu[m], label=m.split(\"r\")[0])\n",
    "# plt.scatter(dyolrmean, dyswumean, color='k', s=100)\n",
    "# plt.plot([dyolrmean]*2, [dyswumean-dyswustd,dyswumean+dyswustd], color='k')\n",
    "# plt.plot([dyolrmean-dyolrstd,dyolrmean+dyolrstd], [dyswumean]*2, color='k')\n",
    "\n",
    "# plt.legend()\n",
    "# plt.grid(True)\n",
    "# plt.close()"
   ]
  },
  {
   "cell_type": "code",
   "execution_count": 10,
   "id": "d8929997-b711-48fb-bf62-d2eb8900d255",
   "metadata": {},
   "outputs": [
    {
     "name": "stdout",
     "output_type": "stream",
     "text": [
      "30  days (721)\n"
     ]
    }
   ],
   "source": [
    "runs = [\"f_default\", \"g_halfsed\", \"g_2xsed\", \"g_halfdep\", \"g_2xdep\",\n",
    "        \"h_halfsed_all\", \"h_2xsed_all\", \"h_halfdep_all\", \"h_2xdep_all\", \n",
    "        \"i_lsascent_a\", \"c_lp2005\", \"j_304K\", \"j_296K\"\n",
    "       ]\n",
    "run_names = [\"Default\",\n",
    "             \"1/2x sedimentation\",\"2x sedimentation\", \n",
    "             \"1/2x deposition\",\"2x deposition\",\n",
    "             \"1/2x sed_all\", \"2x sed_all\",\n",
    "             \"1/2x dep_all\", \"2x dep_all\",\n",
    "             \"LS ascent\", \"New ice nuc (LP2005)\",\n",
    "             \"Warmed SST\", \"Cooled SST\"\n",
    "            ]\n",
    "colors = [\"darkred\",\n",
    "          \"lightskyblue\",\"mediumblue\",\n",
    "          \"lightgreen\",\"darkgreen\",\n",
    "          \"paleturquoise\",\"darkblue\",\n",
    "          \"palegreen\",\"darkgreen\",\n",
    "          \"darkviolet\", \"lightcoral\",\n",
    "          \"orangered\",\"sandybrown\"\n",
    "         ]\n",
    "markers = [\"o\",\n",
    "           \"s\",\"s\",\"s\",\"s\",\n",
    "           \"D\",\"D\",\"D\",\"D\",\n",
    "           \"x\",\"o\",\"^\",\"v\"\n",
    "          ]\n",
    "hl0 = 4\n",
    "hl1 = 5\n",
    "\n",
    "nt = 30*24+1\n",
    "print(nt//24,\" days ({})\".format(nt) )\n",
    "run_dir = \"/glade/work/sturbeville/DPSCREAM_simulations/all_run_files/\"\n",
    "qsmall=0\n",
    "plot_type=\"OLRvsSWU\" # OLRvsASR, OLRvsSWU, LWvsSWCRE, IWPvsLWCRE"
   ]
  },
  {
   "cell_type": "code",
   "execution_count": 13,
   "id": "6a0e0bd4-a512-4ba0-a0ae-9a99edc5e710",
   "metadata": {},
   "outputs": [],
   "source": [
    "runs = runs[1:]+[runs[0]]\n",
    "run_names = run_names[1:]+[run_names[0]]\n",
    "colors = colors[1:]+[colors[0]]\n",
    "markers = markers[1:]+[markers[0]]"
   ]
  },
  {
   "cell_type": "code",
   "execution_count": 14,
   "id": "978710c0-cc67-4a6d-8e87-936f17022668",
   "metadata": {},
   "outputs": [
    {
     "data": {
      "text/plain": [
       "['g_halfsed',\n",
       " 'g_2xsed',\n",
       " 'g_halfdep',\n",
       " 'g_2xdep',\n",
       " 'h_halfsed_all',\n",
       " 'h_2xsed_all',\n",
       " 'h_halfdep_all',\n",
       " 'h_2xdep_all',\n",
       " 'i_lsascent_a',\n",
       " 'c_lp2005',\n",
       " 'j_304K',\n",
       " 'j_296K',\n",
       " 'f_default']"
      ]
     },
     "execution_count": 14,
     "metadata": {},
     "output_type": "execute_result"
    }
   ],
   "source": [
    "runs"
   ]
  },
  {
   "cell_type": "code",
   "execution_count": 15,
   "id": "14093454-287a-4232-a4ca-0b4da6bcf232",
   "metadata": {},
   "outputs": [
    {
     "name": "stdout",
     "output_type": "stream",
     "text": [
      "0 1/2x sedimentation 244.90375 63.26911\n",
      "1 2x sedimentation 245.77957 65.9674\n",
      "2 1/2x deposition 245.24553 65.292076\n",
      "3 2x deposition 245.57986 65.42681\n",
      "4 1/2x sed_all 227.78993 74.02047\n",
      "5 2x sed_all 265.017 53.860607\n",
      "6 1/2x dep_all 248.32469 65.0368\n",
      "7 2x dep_all 245.84656 64.601105\n",
      "8 LS ascent 239.15343 66.85454\n",
      "9 New ice nuc (LP2005) 247.64078 65.042496\n",
      "10 Warmed SST 255.25087 59.445652\n",
      "11 Cooled SST 239.01875 69.743866\n",
      "12 Default 246.06958 64.85458\n",
      "save as plots/OLRvsSWU_scatter_runs_all.png\n"
     ]
    },
    {
     "data": {
      "image/png": "[encoded data removed]",
      "text/plain": [
       "<Figure size 500x300 with 1 Axes>"
      ]
     },
     "metadata": {},
     "output_type": "display_data"
    }
   ],
   "source": [
    "\n",
    "savename=\"runs_all\"\n",
    "do_dyamond=False\n",
    "zoomed=False\n",
    "if zoomed:\n",
    "    figsize=(4,4)\n",
    "else:\n",
    "    figsize=(5,3)\n",
    "fig, ax = plt.subplots(1,1,figsize=figsize)\n",
    "for i in range(len(runs)):\n",
    "    # ds = xr.open_dataset(run_dir+\"scream_dp_RCE_SMALL_3km_{}/run/scream_dp_RCE_SMALL_3km_{}.eam.h1.2000-01-01-00000.nc\".format(runs[i],runs[i]))\n",
    "    ds = xr.open_dataset(run_dir+\"scream_dp_RCE_SMALL_3km_{}.eam.h1.2000-01-01-00000.nc\".format(runs[i]))\n",
    "    ds = ds.isel(time=slice(-nt, -1))\n",
    "    var_dict = {}\n",
    "    if plot_type==\"OLRvsASR\":\n",
    "        x = ds.FLUT.mean()\n",
    "        y = ds.FSNT.mean()\n",
    "    elif plot_type==\"OLRvsSWU\":\n",
    "        x = ds.FLUT.mean()\n",
    "        y = ds.FSUTOA.mean()\n",
    "    elif plot_type==\"LWvsSWCRE\":\n",
    "        x = (ds.FLUTC - ds.FLUT).mean() # LWCRE = OLRCS - OLR\n",
    "        y = -(ds.FSUTOA-ds.FSUTOAC).mean() # SWCRE = - (RSW - RSWCS)\n",
    "    elif plot_type==\"IWPvsLWCRE\":\n",
    "        x = (ds.FLUTC - ds.FLUT).mean() # LWCRE = OLRCS - OLR\n",
    "        y = (ds.TGCLDIWP.mean())*1000 #g/m2\n",
    "    elif plot_type==\"NIvsLWCRE\":\n",
    "        x = (ds.FLUTC - ds.FLUT).mean() # LWCRE = OLRCS - OLR\n",
    "        y = ds.NUMICE.mean()\n",
    "        \n",
    "    # plot\n",
    "    # if i==0 or i==hl0 or i==hl1:\n",
    "    c = colors[i]\n",
    "    a=1\n",
    "    # savename = savename + runs[i].upper() + \"-\"\n",
    "    # else:\n",
    "    #     c=\"gray\"\n",
    "    #     a=0.4\n",
    "    #     savename = savename + runs[i].lower() + \"-\"\n",
    "    print(i,run_names[i],x.values,y.values)\n",
    "    ax.scatter(x,y, label=run_names[i], c=c, alpha=a, marker=markers[i], s=50)\n",
    "fig.legend(loc=6, bbox_to_anchor=(1,0.5))\n",
    "ax.grid(True)\n",
    "if plot_type==\"OLRvsASR\":\n",
    "    ax.axis('equal')\n",
    "    ax.set(xlim=[244,250], ylim=[338,344], xticks=np.arange(244,250.5,1))\n",
    "    ax.set_xlabel(\"OLR (W/m2)\")\n",
    "    ax.set_ylabel(\"ASR (W/m2)\")\n",
    "elif plot_type==\"OLRvsSWU\":\n",
    "    ax.axis('equal')\n",
    "    if zoomed:\n",
    "        ax.set(xlim=[244,248], ylim=[61,67], \n",
    "               xticks=np.arange(244,249.1,1),\n",
    "               yticks=np.arange(61,67.1,1))\n",
    "        savename += \"_zoomed\"\n",
    "    else:\n",
    "        ax.set(xlim=[220,270], ylim=[50,80],\n",
    "               yticks=np.arange(50,80.5,10))\n",
    "    ax.set_xlabel(\"OLR (W/m$^2$)\")\n",
    "    ax.set_ylabel(\"SWU (W/m$^2#$)\")\n",
    "elif plot_type==\"LWvsSWCRE\":\n",
    "    ax.set_xlim([25,31])\n",
    "    ax.set_ylim([-38,-33])\n",
    "    ax.set_xlabel(\"LW CRE (W/m2)\")\n",
    "    ax.set_ylabel(\"SW CRE (W/m2)\")\n",
    "    ax.axis('equal')\n",
    "elif plot_type==\"IWPvsLWCRE\":\n",
    "    ax.set_xlim([25,31])\n",
    "    ax.set_ylim([70,200])\n",
    "    # ax.set_ylim([1e-7,1e4])\n",
    "    # ax.set_yscale(\"log\")\n",
    "    ax.set_xlabel(\"LW CRE (W/m2)\")\n",
    "    ax.set_ylabel(\"IWP (g/m2)\")\n",
    "    ax.axis('equal')\n",
    "if do_dyamond:\n",
    "    print(\"do dy\")\n",
    "    savename +=\"_dyamond\"\n",
    "    for j,var in enumerate(dy2_models):\n",
    "        plt.scatter(dy_olr[var].values, dy_swu[var].values, color='grey', alpha=0.5, s=30)\n",
    "    plt.scatter(dyolrmean, dyswumean, color='k', s=100)\n",
    "    plt.plot([dyolrmean]*2, [dyswumean-dyswustd,dyswumean+dyswustd], color='k')\n",
    "    plt.plot([dyolrmean-dyolrstd,dyolrmean+dyolrstd], [dyswumean]*2, color='k')\n",
    "ax.set_axisbelow(True)\n",
    "# ax.set_title(\"Spatiotemporal average over last {} days & SMALL domain\".format(nt//24))\n",
    "print(\"save as plots/{}_scatter_{}.png\".format(plot_type, savename))\n",
    "plt.savefig(\"plots/{}_scatter_{}.png\".format(plot_type, savename), \n",
    "            bbox_inches='tight',\n",
    "            pad_inches=1, dpi=300)\n",
    "plt.show()"
   ]
  },
  {
   "cell_type": "code",
   "execution_count": null,
   "id": "5d935d5c-559d-43c2-8310-08da5b5e218d",
   "metadata": {},
   "outputs": [],
   "source": []
  },
  {
   "cell_type": "code",
   "execution_count": null,
   "id": "d6385e32-0f4e-426a-9f80-e4b4d29cbf5b",
   "metadata": {},
   "outputs": [],
   "source": []
  }
 ],
 "metadata": {
  "kernelspec": {
   "display_name": "NPL 2023a",
   "language": "python",
   "name": "npl-2023a"
  },
  "language_info": {
   "codemirror_mode": {
    "name": "ipython",
    "version": 3
   },
   "file_extension": ".py",
   "mimetype": "text/x-python",
   "name": "python",
   "nbconvert_exporter": "python",
   "pygments_lexer": "ipython3",
   "version": "3.9.16"
  }
 },
 "nbformat": 4,
 "nbformat_minor": 5
}
